{
 "cells": [
  {
   "cell_type": "code",
   "execution_count": 1,
   "id": "c9e47313",
   "metadata": {},
   "outputs": [],
   "source": [
    "import pypsa\n",
    "import pandas as pd\n",
    "import numpy as np\n",
    "import yaml\n",
    "import sys\n",
    "import os\n",
    "import yaml\n",
    "\n",
    "sys.path.append(os.path.abspath(\"../pypsa-eur-resilient/config\"))\n",
    "sys.path.append(os.path.abspath(\"../pypsa-eur-resilient/scripts\"))"
   ]
  },
  {
   "cell_type": "code",
   "execution_count": 2,
   "id": "876ca71a",
   "metadata": {},
   "outputs": [],
   "source": [
    "# open config yaml\n",
    "RESULTS = os.path.abspath(\"../pypsa-eur-resilient/results\") + \"/\"\n",
    "config = yaml.safe_load(open(\"../pypsa-eur-resilient/config/first-run.config.yaml\", \"r\"))\n",
    "prefix = config[\"run\"][\"prefix\"]\n",
    "runs = config[\"run\"][\"name\"]\n",
    "columns = config[\"solve_operations\"][\"columns\"]\n",
    "planning_horizons = config[\"scenario\"][\"planning_horizons\"]\n",
    "clusters = config[\"scenario\"][\"clusters\"][0]\n",
    "opts = config[\"scenario\"][\"opts\"][0]\n",
    "sector_opts = config[\"scenario\"][\"sector_opts\"][0]"
   ]
  },
  {
   "cell_type": "code",
   "execution_count": 3,
   "id": "44588b81",
   "metadata": {},
   "outputs": [
    {
     "name": "stdout",
     "output_type": "stream",
     "text": [
      "Loading investment run: pcipmi 2030...\n"
     ]
    },
    {
     "name": "stderr",
     "output_type": "stream",
     "text": [
      "INFO:pypsa.io:Imported network base_s_70___2030.nc has buses, carriers, generators, global_constraints, lines, links, loads, storage_units, stores\n"
     ]
    },
    {
     "name": "stdout",
     "output_type": "stream",
     "text": [
      "Loading investment run: pcipmi 2040...\n"
     ]
    },
    {
     "name": "stderr",
     "output_type": "stream",
     "text": [
      "INFO:pypsa.io:Imported network base_s_70___2040.nc has buses, carriers, generators, global_constraints, lines, links, loads, storage_units, stores\n"
     ]
    },
    {
     "name": "stdout",
     "output_type": "stream",
     "text": [
      "Loading investment run: pcipmi 2050...\n"
     ]
    },
    {
     "name": "stderr",
     "output_type": "stream",
     "text": [
      "INFO:pypsa.io:Imported network base_s_70___2050.nc has buses, carriers, generators, global_constraints, lines, links, loads, storage_units, stores\n"
     ]
    },
    {
     "name": "stdout",
     "output_type": "stream",
     "text": [
      "Loading investment run: pcipmi-delay-10years 2030...\n"
     ]
    },
    {
     "name": "stderr",
     "output_type": "stream",
     "text": [
      "INFO:pypsa.io:Imported network base_s_70___2030.nc has buses, carriers, generators, global_constraints, lines, links, loads, storage_units, stores\n"
     ]
    },
    {
     "name": "stdout",
     "output_type": "stream",
     "text": [
      "Loading investment run: pcipmi-delay-10years 2040...\n"
     ]
    },
    {
     "name": "stderr",
     "output_type": "stream",
     "text": [
      "INFO:pypsa.io:Imported network base_s_70___2040.nc has buses, carriers, generators, global_constraints, lines, links, loads, storage_units, stores\n"
     ]
    },
    {
     "name": "stdout",
     "output_type": "stream",
     "text": [
      "Loading investment run: pcipmi-delay-10years 2050...\n"
     ]
    },
    {
     "name": "stderr",
     "output_type": "stream",
     "text": [
      "INFO:pypsa.io:Imported network base_s_70___2050.nc has buses, carriers, generators, global_constraints, lines, links, loads, storage_units, stores\n"
     ]
    },
    {
     "name": "stdout",
     "output_type": "stream",
     "text": [
      "Loading investment run: pcipmi-national-expansion 2030...\n"
     ]
    },
    {
     "name": "stderr",
     "output_type": "stream",
     "text": [
      "INFO:pypsa.io:Imported network base_s_70___2030.nc has buses, carriers, generators, global_constraints, lines, links, loads, storage_units, stores\n"
     ]
    },
    {
     "name": "stdout",
     "output_type": "stream",
     "text": [
      "Loading investment run: pcipmi-national-expansion 2040...\n"
     ]
    },
    {
     "name": "stderr",
     "output_type": "stream",
     "text": [
      "INFO:pypsa.io:Imported network base_s_70___2040.nc has buses, carriers, generators, global_constraints, lines, links, loads, storage_units, stores\n"
     ]
    },
    {
     "name": "stdout",
     "output_type": "stream",
     "text": [
      "Loading investment run: pcipmi-national-expansion 2050...\n"
     ]
    },
    {
     "name": "stderr",
     "output_type": "stream",
     "text": [
      "INFO:pypsa.io:Imported network base_s_70___2050.nc has buses, carriers, generators, global_constraints, lines, links, loads, storage_units, stores\n"
     ]
    },
    {
     "name": "stdout",
     "output_type": "stream",
     "text": [
      "Loading investment run: pcipmi-national-international-expansion 2030...\n"
     ]
    },
    {
     "name": "stderr",
     "output_type": "stream",
     "text": [
      "INFO:pypsa.io:Imported network base_s_70___2030.nc has buses, carriers, generators, global_constraints, lines, links, loads, storage_units, stores\n"
     ]
    },
    {
     "name": "stdout",
     "output_type": "stream",
     "text": [
      "Loading investment run: pcipmi-national-international-expansion 2040...\n"
     ]
    },
    {
     "name": "stderr",
     "output_type": "stream",
     "text": [
      "INFO:pypsa.io:Imported network base_s_70___2040.nc has buses, carriers, generators, global_constraints, lines, links, loads, storage_units, stores\n"
     ]
    },
    {
     "name": "stdout",
     "output_type": "stream",
     "text": [
      "Loading investment run: pcipmi-national-international-expansion 2050...\n"
     ]
    },
    {
     "name": "stderr",
     "output_type": "stream",
     "text": [
      "INFO:pypsa.io:Imported network base_s_70___2050.nc has buses, carriers, generators, global_constraints, lines, links, loads, storage_units, stores\n"
     ]
    },
    {
     "name": "stdout",
     "output_type": "stream",
     "text": [
      "Loading investment run: no-pipelines 2030...\n"
     ]
    },
    {
     "name": "stderr",
     "output_type": "stream",
     "text": [
      "INFO:pypsa.io:Imported network base_s_70___2030.nc has buses, carriers, generators, global_constraints, lines, links, loads, storage_units, stores\n"
     ]
    },
    {
     "name": "stdout",
     "output_type": "stream",
     "text": [
      "Loading investment run: no-pipelines 2040...\n"
     ]
    },
    {
     "name": "stderr",
     "output_type": "stream",
     "text": [
      "INFO:pypsa.io:Imported network base_s_70___2040.nc has buses, carriers, generators, global_constraints, lines, links, loads, storage_units, stores\n"
     ]
    },
    {
     "name": "stdout",
     "output_type": "stream",
     "text": [
      "Loading investment run: no-pipelines 2050...\n"
     ]
    },
    {
     "name": "stderr",
     "output_type": "stream",
     "text": [
      "INFO:pypsa.io:Imported network base_s_70___2050.nc has buses, carriers, generators, global_constraints, lines, links, loads, storage_units, stores\n"
     ]
    },
    {
     "name": "stdout",
     "output_type": "stream",
     "text": [
      "Loading investment run: greenfield-pipelines 2030...\n"
     ]
    },
    {
     "name": "stderr",
     "output_type": "stream",
     "text": [
      "INFO:pypsa.io:Imported network base_s_70___2030.nc has buses, carriers, generators, global_constraints, lines, links, loads, storage_units, stores\n"
     ]
    },
    {
     "name": "stdout",
     "output_type": "stream",
     "text": [
      "Loading investment run: greenfield-pipelines 2040...\n"
     ]
    },
    {
     "name": "stderr",
     "output_type": "stream",
     "text": [
      "INFO:pypsa.io:Imported network base_s_70___2040.nc has buses, carriers, generators, global_constraints, lines, links, loads, storage_units, stores\n"
     ]
    },
    {
     "name": "stdout",
     "output_type": "stream",
     "text": [
      "Loading investment run: greenfield-pipelines 2050...\n"
     ]
    },
    {
     "name": "stderr",
     "output_type": "stream",
     "text": [
      "INFO:pypsa.io:Imported network base_s_70___2050.nc has buses, carriers, generators, global_constraints, lines, links, loads, storage_units, stores\n"
     ]
    },
    {
     "name": "stdout",
     "output_type": "stream",
     "text": [
      "\n"
     ]
    }
   ],
   "source": [
    "networks = dict()\n",
    "\n",
    "for run in runs:\n",
    "    for planning_horizon in planning_horizons:\n",
    "        print(f\"Loading investment run: {run} {planning_horizon}...\")\n",
    "        n_inv = pypsa.Network(f\"{RESULTS}/{prefix}/{run}/networks/base_s_{clusters}_{opts}_{sector_opts}_{planning_horizon}.nc\")\n",
    "        networks[(run, planning_horizon)] = n_inv\n",
    "\n",
    "print(\"\")"
   ]
  },
  {
   "cell_type": "code",
   "execution_count": 90,
   "id": "8648ba19",
   "metadata": {},
   "outputs": [],
   "source": [
    "# Create table of CAPEX\n",
    "capex = pd.DataFrame(\n",
    "    index=runs,\n",
    "    columns=planning_horizons,\n",
    "    dtype=float,\n",
    ")\n",
    "\n",
    "for row in runs:\n",
    "    for planning_horizon in planning_horizons:\n",
    "        n = networks[(row, planning_horizon)]\n",
    "        value = n.statistics.capex().sum()\n",
    "        # get all components\n",
    "        capex.loc[row, planning_horizon] = value / 1e9 # bn. EUR \n",
    "\n",
    "# Create table of OPEX\n",
    "opex = pd.DataFrame(\n",
    "    index=runs,\n",
    "    columns=planning_horizons,\n",
    "    dtype=float,\n",
    ")\n",
    "\n",
    "for row in runs:\n",
    "    for planning_horizon in planning_horizons:\n",
    "        n = networks[(row, planning_horizon)]\n",
    "        value = n.statistics.opex().sum()\n",
    "        # get all components\n",
    "        opex.loc[row, planning_horizon] = value / 1e9 # bn. EUR\n",
    "\n",
    "# TOTEX\n",
    "totex = capex + opex\n",
    "\n",
    "# TOTEX over all years and interpolate\n",
    "totex_sum = pd.DataFrame(\n",
    "    index=totex.index,\n",
    "    columns=[\"All years until 2075\"],\n",
    "    dtype=float,\n",
    ")\n",
    "\n",
    "totex_sum[\"All years until 2075\"] = 10 * totex[2030] + 10 * totex[2040] + 25 * totex[2050]\n",
    "totex_sum.sort_values(\n",
    "    by=\"All years until 2075\",\n",
    "    ascending=False,\n",
    "    inplace=True,\n",
    ")\n",
    "\n",
    "# Sort by TOTEX over lifetime, reindex\n",
    "capex = capex.loc[totex_sum.index]\n",
    "opex = opex.loc[totex_sum.index]\n",
    "totex = totex.loc[totex_sum.index]\n",
    "\n",
    "# print(\"### CAPEX in bn. EUR ###\")\n",
    "# print(capex.round(2).to_string())\n",
    "# print(\"\") \n",
    "\n",
    "# print(\"### OPEX in bn. EUR ###\")\n",
    "# print(opex.round(2).to_string())"
   ]
  },
  {
   "cell_type": "code",
   "execution_count": 93,
   "id": "49b2e1f3",
   "metadata": {},
   "outputs": [
    {
     "data": {
      "application/vnd.microsoft.datawrangler.viewer.v0+json": {
       "columns": [
        {
         "name": "index",
         "rawType": "object",
         "type": "string"
        },
        {
         "name": "2030",
         "rawType": "float64",
         "type": "float"
        },
        {
         "name": "2040",
         "rawType": "float64",
         "type": "float"
        },
        {
         "name": "2050",
         "rawType": "float64",
         "type": "float"
        }
       ],
       "conversionMethod": "pd.DataFrame",
       "ref": "83afc698-426e-4f07-a667-a35b5a28ed67",
       "rows": [
        [
         "pcipmi",
         "517.0875583221098",
         "782.9375565657267",
         "800.1723395973496"
        ],
        [
         "pcipmi-national-expansion",
         "517.2773471635331",
         "777.7192222574303",
         "793.108690254575"
        ],
        [
         "pcipmi-delay-10years",
         "496.2197370742458",
         "776.3856949347237",
         "800.2024658750315"
        ],
        [
         "pcipmi-national-international-expansion",
         "516.4228632197031",
         "767.5699137847664",
         "785.6437892897527"
        ],
        [
         "greenfield-pipelines",
         "510.3247858316524",
         "762.8051962235728",
         "782.3439033861763"
        ],
        [
         "no-pipelines",
         "495.31398752533227",
         "778.5193421393362",
         "790.805391813384"
        ]
       ],
       "shape": {
        "columns": 3,
        "rows": 6
       }
      },
      "text/html": [
       "<div>\n",
       "<style scoped>\n",
       "    .dataframe tbody tr th:only-of-type {\n",
       "        vertical-align: middle;\n",
       "    }\n",
       "\n",
       "    .dataframe tbody tr th {\n",
       "        vertical-align: top;\n",
       "    }\n",
       "\n",
       "    .dataframe thead th {\n",
       "        text-align: right;\n",
       "    }\n",
       "</style>\n",
       "<table border=\"1\" class=\"dataframe\">\n",
       "  <thead>\n",
       "    <tr style=\"text-align: right;\">\n",
       "      <th></th>\n",
       "      <th>2030</th>\n",
       "      <th>2040</th>\n",
       "      <th>2050</th>\n",
       "    </tr>\n",
       "  </thead>\n",
       "  <tbody>\n",
       "    <tr>\n",
       "      <th>pcipmi</th>\n",
       "      <td>517.087558</td>\n",
       "      <td>782.937557</td>\n",
       "      <td>800.172340</td>\n",
       "    </tr>\n",
       "    <tr>\n",
       "      <th>pcipmi-national-expansion</th>\n",
       "      <td>517.277347</td>\n",
       "      <td>777.719222</td>\n",
       "      <td>793.108690</td>\n",
       "    </tr>\n",
       "    <tr>\n",
       "      <th>pcipmi-delay-10years</th>\n",
       "      <td>496.219737</td>\n",
       "      <td>776.385695</td>\n",
       "      <td>800.202466</td>\n",
       "    </tr>\n",
       "    <tr>\n",
       "      <th>pcipmi-national-international-expansion</th>\n",
       "      <td>516.422863</td>\n",
       "      <td>767.569914</td>\n",
       "      <td>785.643789</td>\n",
       "    </tr>\n",
       "    <tr>\n",
       "      <th>greenfield-pipelines</th>\n",
       "      <td>510.324786</td>\n",
       "      <td>762.805196</td>\n",
       "      <td>782.343903</td>\n",
       "    </tr>\n",
       "    <tr>\n",
       "      <th>no-pipelines</th>\n",
       "      <td>495.313988</td>\n",
       "      <td>778.519342</td>\n",
       "      <td>790.805392</td>\n",
       "    </tr>\n",
       "  </tbody>\n",
       "</table>\n",
       "</div>"
      ],
      "text/plain": [
       "                                               2030        2040        2050\n",
       "pcipmi                                   517.087558  782.937557  800.172340\n",
       "pcipmi-national-expansion                517.277347  777.719222  793.108690\n",
       "pcipmi-delay-10years                     496.219737  776.385695  800.202466\n",
       "pcipmi-national-international-expansion  516.422863  767.569914  785.643789\n",
       "greenfield-pipelines                     510.324786  762.805196  782.343903\n",
       "no-pipelines                             495.313988  778.519342  790.805392"
      ]
     },
     "execution_count": 93,
     "metadata": {},
     "output_type": "execute_result"
    }
   ],
   "source": [
    "capex"
   ]
  },
  {
   "cell_type": "code",
   "execution_count": 94,
   "id": "469d0fe5",
   "metadata": {},
   "outputs": [
    {
     "data": {
      "application/vnd.microsoft.datawrangler.viewer.v0+json": {
       "columns": [
        {
         "name": "index",
         "rawType": "object",
         "type": "string"
        },
        {
         "name": "2030",
         "rawType": "float64",
         "type": "float"
        },
        {
         "name": "2040",
         "rawType": "float64",
         "type": "float"
        },
        {
         "name": "2050",
         "rawType": "float64",
         "type": "float"
        }
       ],
       "conversionMethod": "pd.DataFrame",
       "ref": "9b7ac800-f672-4010-b8b1-ec51e61aa777",
       "rows": [
        [
         "pcipmi",
         "370.9404701883045",
         "180.48771063678683",
         "88.05767832243998"
        ],
        [
         "pcipmi-national-expansion",
         "370.5114480768026",
         "180.43974019646726",
         "89.36208848898117"
        ],
        [
         "pcipmi-delay-10years",
         "369.3330179927176",
         "180.45506189094257",
         "88.2838787373411"
        ],
        [
         "pcipmi-national-international-expansion",
         "370.98920381143125",
         "181.16572885808833",
         "89.38969500746336"
        ],
        [
         "greenfield-pipelines",
         "370.80080607731566",
         "181.21302206654676",
         "88.66690971043121"
        ],
        [
         "no-pipelines",
         "369.51148736632064",
         "174.14152354431005",
         "82.91262349628037"
        ]
       ],
       "shape": {
        "columns": 3,
        "rows": 6
       }
      },
      "text/html": [
       "<div>\n",
       "<style scoped>\n",
       "    .dataframe tbody tr th:only-of-type {\n",
       "        vertical-align: middle;\n",
       "    }\n",
       "\n",
       "    .dataframe tbody tr th {\n",
       "        vertical-align: top;\n",
       "    }\n",
       "\n",
       "    .dataframe thead th {\n",
       "        text-align: right;\n",
       "    }\n",
       "</style>\n",
       "<table border=\"1\" class=\"dataframe\">\n",
       "  <thead>\n",
       "    <tr style=\"text-align: right;\">\n",
       "      <th></th>\n",
       "      <th>2030</th>\n",
       "      <th>2040</th>\n",
       "      <th>2050</th>\n",
       "    </tr>\n",
       "  </thead>\n",
       "  <tbody>\n",
       "    <tr>\n",
       "      <th>pcipmi</th>\n",
       "      <td>370.940470</td>\n",
       "      <td>180.487711</td>\n",
       "      <td>88.057678</td>\n",
       "    </tr>\n",
       "    <tr>\n",
       "      <th>pcipmi-national-expansion</th>\n",
       "      <td>370.511448</td>\n",
       "      <td>180.439740</td>\n",
       "      <td>89.362088</td>\n",
       "    </tr>\n",
       "    <tr>\n",
       "      <th>pcipmi-delay-10years</th>\n",
       "      <td>369.333018</td>\n",
       "      <td>180.455062</td>\n",
       "      <td>88.283879</td>\n",
       "    </tr>\n",
       "    <tr>\n",
       "      <th>pcipmi-national-international-expansion</th>\n",
       "      <td>370.989204</td>\n",
       "      <td>181.165729</td>\n",
       "      <td>89.389695</td>\n",
       "    </tr>\n",
       "    <tr>\n",
       "      <th>greenfield-pipelines</th>\n",
       "      <td>370.800806</td>\n",
       "      <td>181.213022</td>\n",
       "      <td>88.666910</td>\n",
       "    </tr>\n",
       "    <tr>\n",
       "      <th>no-pipelines</th>\n",
       "      <td>369.511487</td>\n",
       "      <td>174.141524</td>\n",
       "      <td>82.912623</td>\n",
       "    </tr>\n",
       "  </tbody>\n",
       "</table>\n",
       "</div>"
      ],
      "text/plain": [
       "                                               2030        2040       2050\n",
       "pcipmi                                   370.940470  180.487711  88.057678\n",
       "pcipmi-national-expansion                370.511448  180.439740  89.362088\n",
       "pcipmi-delay-10years                     369.333018  180.455062  88.283879\n",
       "pcipmi-national-international-expansion  370.989204  181.165729  89.389695\n",
       "greenfield-pipelines                     370.800806  181.213022  88.666910\n",
       "no-pipelines                             369.511487  174.141524  82.912623"
      ]
     },
     "execution_count": 94,
     "metadata": {},
     "output_type": "execute_result"
    }
   ],
   "source": [
    "opex"
   ]
  },
  {
   "cell_type": "code",
   "execution_count": 95,
   "id": "63082bc5",
   "metadata": {},
   "outputs": [
    {
     "data": {
      "image/png": "[encoded data removed]",
      "text/plain": [
       "<Figure size 1300x300 with 8 Axes>"
      ]
     },
     "metadata": {},
     "output_type": "display_data"
    }
   ],
   "source": [
    "import seaborn as sns\n",
    "import matplotlib.pyplot as plt\n",
    "import matplotlib.gridspec as gridspec\n",
    "\n",
    "# Reorder dfs\n",
    "capex = capex.reindex(totex_sum.index)\n",
    "\n",
    "fig = plt.figure(figsize=(13, 3))\n",
    "\n",
    "# Define grid layout with width ratios\n",
    "gs = gridspec.GridSpec(1, 4, width_ratios=[7, 7, 7, 2.5], figure=fig)\n",
    "\n",
    "# Create axes from the GridSpec\n",
    "ax1 = fig.add_subplot(gs[0])\n",
    "ax2 = fig.add_subplot(gs[1], sharey=ax1)\n",
    "ax3 = fig.add_subplot(gs[2], sharey=ax1)\n",
    "ax4 = fig.add_subplot(gs[3], sharey=ax1)\n",
    "\n",
    "for ax in [ax2, ax3, ax4]:\n",
    "    ax.tick_params(left=False, labelleft=False)\n",
    "\n",
    "# CAPEX\n",
    "sns.heatmap(capex, annot=True, cmap=\"Reds\", fmt=\".1f\", linewidths=0.5,\n",
    "            cbar_kws={\"label\": \"bn. EUR p.a.\"}, ax=ax1)\n",
    "ax1.set_title(\"CAPEX p.a.\")\n",
    "ax1.set_xlabel(\"Year\")\n",
    "ax1.set_ylabel(\"Scenario\")\n",
    "\n",
    "# OPEX\n",
    "sns.heatmap(opex, annot=True, cmap=\"Blues\", fmt=\".1f\", linewidths=0.5,\n",
    "            cbar_kws={\"label\": \"bn. EUR p.a.\"}, ax=ax2)\n",
    "ax2.set_title(\"OPEX p.a. \")\n",
    "ax2.set_xlabel(\"Year\")\n",
    "ax2.set_ylabel(\"\")  # Don't repeat \"Scenario\" if sharing y-axis\n",
    "\n",
    "sns.heatmap(totex, annot=True, cmap=\"Purples\", fmt=\".1f\", linewidths=0.5,\n",
    "            cbar_kws={\"label\": \"bn. EUR p.a.\"}, ax=ax3)\n",
    "ax3.set_title(\"TOTEX p.a.\")\n",
    "ax3.set_xlabel(\"Year\")\n",
    "ax3.set_ylabel(\"\")  # Don't repeat \"Scenario\" if sharing y-axis\n",
    "\n",
    "\n",
    "sns.heatmap(totex_sum, annot=True, cmap=\"Greys\", fmt=\".0f\", linewidths=0.5,\n",
    "            cbar_kws={\"label\": \"bn. EUR\"}, ax=ax4)\n",
    "ax4.set_title(\"TOTEX\")\n",
    "ax4.set_xlabel(\"Sum\")\n",
    "ax4.set_ylabel(\"\")  # Don't repeat \"Scenario\" if sharing y-axis\n",
    "\n",
    "plt.subplots_adjust(wspace=0.1) \n",
    "\n",
    "# Sort x axis of all plots by totex_sum.index\n",
    "ax\n",
    "\n",
    "plt.tight_layout()\n",
    "plt.show()"
   ]
  },
  {
   "cell_type": "code",
   "execution_count": 105,
   "id": "3d510895",
   "metadata": {},
   "outputs": [],
   "source": [
    "n = networks[(\"pcipmi\", 2040)]"
   ]
  },
  {
   "cell_type": "code",
   "execution_count": 108,
   "id": "af2f7be3",
   "metadata": {},
   "outputs": [
    {
     "data": {
      "text/plain": [
       "2397406624.6480002"
      ]
     },
     "execution_count": 108,
     "metadata": {},
     "output_type": "execute_result"
    }
   ],
   "source": [
    "n.statistics.expanded_capacity().sum() + n.statistics.installed_capacity().sum()"
   ]
  },
  {
   "cell_type": "code",
   "execution_count": 103,
   "id": "240ddccd",
   "metadata": {},
   "outputs": [
    {
     "data": {
      "text/plain": [
       "1538197280.4504502"
      ]
     },
     "execution_count": 103,
     "metadata": {},
     "output_type": "execute_result"
    }
   ],
   "source": [
    "networks[('pcipmi', 2040)].statistics.installed_capacity().sum()"
   ]
  },
  {
   "cell_type": "code",
   "execution_count": 98,
   "id": "d52a965d",
   "metadata": {},
   "outputs": [
    {
     "data": {
      "text/plain": [
       "2397406624.648"
      ]
     },
     "execution_count": 98,
     "metadata": {},
     "output_type": "execute_result"
    }
   ],
   "source": [
    "networks[('pcipmi', 2040)].statistics.optimal_capacity().sum()"
   ]
  },
  {
   "cell_type": "markdown",
   "id": "63e0473b",
   "metadata": {},
   "source": [
    "**Notes on system costs**\n",
    "- `no-pipelines` is the cheapest over the assets' lifetime, limit build-out rate of renewables?\n",
    "- check DAC, costs, cross compare with carbon networks paper\n",
    "- why no pipelines so much cheaper in 2030, should be more expensive\n",
    "- co2 pipeline cost check\n",
    "- compare with old run"
   ]
  },
  {
   "cell_type": "code",
   "execution_count": null,
   "id": "4980d4c1",
   "metadata": {},
   "outputs": [],
   "source": []
  },
  {
   "cell_type": "markdown",
   "id": "e525df52",
   "metadata": {},
   "source": []
  },
  {
   "cell_type": "markdown",
   "id": "24b83b8f",
   "metadata": {},
   "source": []
  }
 ],
 "metadata": {
  "kernelspec": {
   "display_name": "pypsa-eur",
   "language": "python",
   "name": "python3"
  },
  "language_info": {
   "codemirror_mode": {
    "name": "ipython",
    "version": 3
   },
   "file_extension": ".py",
   "mimetype": "text/x-python",
   "name": "python",
   "nbconvert_exporter": "python",
   "pygments_lexer": "ipython3",
   "version": "3.12.9"
  }
 },
 "nbformat": 4,
 "nbformat_minor": 5
}
